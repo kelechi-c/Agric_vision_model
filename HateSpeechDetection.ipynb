{
  "nbformat": 4,
  "nbformat_minor": 0,
  "metadata": {
    "colab": {
      "provenance": [],
      "gpuType": "T4",
      "authorship_tag": "ABX9TyMyKJrszs6oMzvODNEEFyx8",
      "include_colab_link": true
    },
    "kernelspec": {
      "name": "python3",
      "display_name": "Python 3"
    },
    "language_info": {
      "name": "python"
    },
    "accelerator": "GPU"
  },
  "cells": [
    {
      "cell_type": "markdown",
      "metadata": {
        "id": "view-in-github",
        "colab_type": "text"
      },
      "source": [
        "<a href=\"https://colab.research.google.com/github/kelechi-c/Agric_vision_model/blob/main/HateSpeechDetection.ipynb\" target=\"_parent\"><img src=\"https://colab.research.google.com/assets/colab-badge.svg\" alt=\"Open In Colab\"/></a>"
      ]
    },
    {
      "cell_type": "code",
      "execution_count": null,
      "metadata": {
        "id": "Eoqb26oaRajn"
      },
      "outputs": [],
      "source": [
        "import tensorflow as tf\n",
        "import tensorflow_datasets as tfds\n",
        "import matplotlib.pyplot as plt\n",
        "import datetime\n",
        "import numpy as np\n",
        "import pandas as pd\n",
        "\n",
        "from sklearn.model_selection import train_test_split\n",
        "from tensorflow import keras as tfkeras\n",
        "from keras import layers, losses\n",
        "from keras.models import load_model\n",
        "from keras.preprocessing.text import Tokenizer\n",
        "from keras.preprocessing.sequence import pad_sequences\n",
        "from keras.utils import to_categorical"
      ]
    },
    {
      "cell_type": "code",
      "source": [
        "speech_data = 'hatespeech.csv'\n",
        "\n",
        "dataset = pd.read_csv(speech_data)\n",
        "dataset"
      ],
      "metadata": {
        "colab": {
          "base_uri": "https://localhost:8080/",
          "height": 35
        },
        "id": "BNocTdr6XmS1",
        "outputId": "7f9d2ea0-c747-40e0-a5f2-9126595d486f"
      },
      "execution_count": null,
      "outputs": [
        {
          "output_type": "execute_result",
          "data": {
            "text/plain": [
              "'hatespeech.csv'"
            ],
            "application/vnd.google.colaboratory.intrinsic+json": {
              "type": "string"
            }
          },
          "metadata": {},
          "execution_count": 3
        }
      ]
    },
    {
      "cell_type": "code",
      "source": [
        "\n",
        "\n",
        "comments = dataset['clean_comment']\n",
        "categories = dataset['category']\n",
        "\n",
        "sentences = []\n",
        "labels = []\n",
        "\n",
        "for sentence in comments:\n",
        "  # sentences.append(str(dataset['clean_comment'].tolist()))\n",
        "  sentences.append(str(sentence))\n",
        "\n",
        "for category in categories:\n",
        "  labels.append(category)\n",
        "\n",
        "train_size = 28000\n",
        "vocab_size = 48244\n",
        "embedding_dim = 50\n",
        "max_length = 100\n",
        "trunc_type='post'\n",
        "pad_type='post'\n",
        "\n",
        "train_text = sentences[0:train_size]\n",
        "test_text = sentences[train_size:]\n",
        "\n",
        "train_labels = labels[0:train_size]\n",
        "test_labels = labels[train_size:]"
      ],
      "metadata": {
        "id": "F05JyyKBR2g8"
      },
      "execution_count": null,
      "outputs": []
    }
  ]
}